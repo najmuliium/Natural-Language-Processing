{
  "cells": [
    {
      "cell_type": "markdown",
      "source": [
        "# 0. Install dependencies"
      ],
      "metadata": {
        "id": "DzPdgh42i7H5"
      },
      "id": "DzPdgh42i7H5"
    },
    {
      "cell_type": "code",
      "source": [
        "!pip install spacy"
      ],
      "metadata": {
        "id": "9h6zQnVyioeo"
      },
      "id": "9h6zQnVyioeo",
      "execution_count": null,
      "outputs": []
    },
    {
      "cell_type": "markdown",
      "source": [
        "\n",
        "\n",
        "# 1.   Import and Load Model\n",
        "\n",
        "\n"
      ],
      "metadata": {
        "id": "ZSlx6FHkFwr7"
      },
      "id": "ZSlx6FHkFwr7"
    },
    {
      "cell_type": "code",
      "execution_count": 1,
      "id": "3e843e90",
      "metadata": {
        "id": "3e843e90"
      },
      "outputs": [],
      "source": [
        "import spacy\n",
        "from spacy.lang.en.stop_words import STOP_WORDS\n",
        "from string import punctuation\n",
        "import re"
      ]
    },
    {
      "cell_type": "markdown",
      "source": [
        "Store a text in variable text which we need to summarise in the text"
      ],
      "metadata": {
        "id": "1buWfeX_kM2F"
      },
      "id": "1buWfeX_kM2F"
    },
    {
      "cell_type": "code",
      "execution_count": null,
      "id": "9691ba6f",
      "metadata": {
        "scrolled": true,
        "id": "9691ba6f",
        "outputId": "1e225221-4302-4af5-e1ec-e0ff45809a85"
      },
      "outputs": [
        {
          "data": {
            "text/plain": [
              "'\\nAdvanced Scatterometer (ASCAT)\\nASCAT was primarily designed to provide global ocean wind vectors operationally. ASCAT is an active microwave advanced scatterometer mounted onboard the polar-orbiting satellites MetOp-A and MetOp-B, which are operated by the European Organization for the Exploitation of Meteorological Satellites, and these satellites were launched in 2006 and 2012, respectively. The ASCAT instrument can transmit pulses with vertical co-polarization (VV) operating in the C-band at 5.255 GHz. The ASCAT instrument has two sets of three fan-beam antennae that measure the returned backscatter signal at incident angles of 25–65°. The antennae extend to either side of the instrument, resulting in a double swath of observations, each 550 km wide, separated by a gap of approximately 360 km [19]. The microwave pulses can penetrate clouds and are not dependent on solar illumination, meaning that ASCAT can provide daily “all-condition” surface measurements and imaging covering approximately 80% of the globe [20]. ASCAT’s standard backscatter product has a nominal spatial resolution of 25 or 50 km with very high temporal resolution (i.e., multiple passes per day). However, to investigate the small-scale ice area considered in this study, we used a scatterometer image reconstruction (SIR) algorithm, specifically a 4.45-km resolution all-passes product that is a composite of several passes over the pole during a day [21]. This enhanced resolution product was provided by the Brigham Young University Microwave Earth Remote Sensing Laboratory [22]. All backscattering data were processed using the SIR algorithm [23], which uses multiple days of scatterometer data to create a grid-like resolution enhancement product. This algorithm assumes a linear model that relates the normalized radar cross section (σ0) to the signal incident angle (θ):\\nσ0 = A + B (θ − 40).\\n(1)\\nThe model normalizes the incident angle to 40°. This will create two images, referred to as image A (including normalized backscattering values, in dB) and image B (representing the incident angle dependence of backscattering, in dB/°). In this study, image A of the v-polarization evening pass was utilized.\\nAdvanced Microwave Scanning Radiometer 2 (AMSR2)\\nAMSR2 is the passive microwave radiometer instrument mounted onboard the Global Change Observation Mission Water (GCOM-W) satellite, which was launched in May of 2012. The AMSR2 instrument is a conical scanning passive microwave radiometer system that measures in seven frequency bands (in the range of 6.925–89.0 GHz) in both horizontal and vertical polarizations. The antenna’s different feedhorns scan at an incidence angle of 55° and provide a 1450 km swath of coverage at the Earth’s surface. Here, we used descending passes to find TB values for each frequency and polarization. Additionally, SIC values are provided as 10-km gridded data on a polar stereographic projection from the Japan Aerospace Exploration Agency (JAXA) as the AMSR2 Level 3 (L3) products.\\nAs the value of σ0 is sensitive to melting of the snow or ice surface [20], melting represents a source of error. In the current study, surface melting was detected using the following procedure. Combining TB values at different frequencies and polarizations enables different stages of melting progression to be distinguished [24]. The combination of the horizontally polarized TB at 19 GHz (TB 19H) and the vertically polarized TB at 37 GHz (TB 37V) is the most sensitive index for detecting surface and subsurface melting. As snowmelt water drains from the upper snow cover to deeper layers, the emissivity of TB 19H increases and can even exceed the emissivity of TB 37V.\\nTherefore, the cross-polarization ratio (XPR) can be used as an index to determine whether melting has occurred in the surface or in the subsurface layer. Arndt et al. [25] represented these combinations of TB 19H and TB 37V derived from the passive microwave radiometers SSM/I and SSMIS mounted onboard the Defense Meteorological Satellite Program (DMSP) satellites via the XPR, which is expressed using the following equation:\\nXPR = TB 19H • TB 37V−1.\\n(2)\\nAs the brightness temperature frequencies measured by the AMSR2 sensor were 18 and 36 GHz, the XPR was calculated in this study by replacing TB 19H with TB 18H and TB 37V with TB36V.\\nMarkus and Burns [26] developed a polynya estimation model using the polarization ratio (PR) between 37 and 85 GHz, sensed by SSM/I. Moreover, the frequency of 36 GHz is affected by the open water fraction [27]. In this study, PR36, calculated using the following equation was used for identifying drift ice of different concentrations.\\nPR36 = (TB 36V − TB 36H) • (TB 36V + TB 36H))−1\\n(3)\\nIn this study, the PR36 and XPR values were calculated using TB 18H, TB 36V, and TB 36H of the AMSR2 L3 product.\\nMODIS Imagery\\nThe MODIS instruments onboard the Terra and Aqua spacecraft provide a wealth of spectral and spatial information about the Earth. One of the most aesthetically pleasing MODIS products is the true color images (also known as natural color images) of the Earth at a 250-m spatial resolution. MODIS is the first orbiting imaging sensor to provide such images at a reasonably high spatial resolution over a wide swathe. In the current study, we used MODIS-corrected reflectance true color GeoTIFF imagery to validate the classification results. The MODIS Imagery products were obtained from the NASA’s Earth Observing System Data and Information System (EOSDIS). Additionally, EODIS publishes coastline data via OpenStreetMap. In the current study, coastline data were used to classify areas of land and sea.\\nSentinel-1 Level 1 Product\\nSentinel-1 was launched on the 3rd of April 2014, from Kourou Spaceport in French Guiana. Data became operationally available around October of 2014, following a commissioning phase. The main instrument of Sentinel-1 is a C-band synesthetic aperture radar (C-SAR) instrument, which provides data in the form of SAR images with various modes and resolutions. Hereafter, C-band SAR images are referred to as C-SAR images for simplicity. For operational large-scale ice areas, we used the ground range detected extended wide swath mode at a medium resolution (93 × 87 m) corresponding to an equivalent number of looks of 12.7. Data were provided with 40 × 40 m pixel spacing. Sentinel-1 level 1 products were provided by the ESA’s Copernicus Open Access Hub.\\n'"
            ]
          },
          "execution_count": 2,
          "metadata": {},
          "output_type": "execute_result"
        }
      ],
      "source": [
        "text = \"\"\"\n",
        "Advanced Scatterometer (ASCAT)\n",
        "ASCAT was primarily designed to provide global ocean wind vectors operationally. ASCAT is an active microwave advanced scatterometer mounted onboard the polar-orbiting satellites MetOp-A and MetOp-B, which are operated by the European Organization for the Exploitation of Meteorological Satellites, and these satellites were launched in 2006 and 2012, respectively. The ASCAT instrument can transmit pulses with vertical co-polarization (VV) operating in the C-band at 5.255 GHz. The ASCAT instrument has two sets of three fan-beam antennae that measure the returned backscatter signal at incident angles of 25–65°. The antennae extend to either side of the instrument, resulting in a double swath of observations, each 550 km wide, separated by a gap of approximately 360 km [19]. The microwave pulses can penetrate clouds and are not dependent on solar illumination, meaning that ASCAT can provide daily “all-condition” surface measurements and imaging covering approximately 80% of the globe [20]. ASCAT’s standard backscatter product has a nominal spatial resolution of 25 or 50 km with very high temporal resolution (i.e., multiple passes per day). However, to investigate the small-scale ice area considered in this study, we used a scatterometer image reconstruction (SIR) algorithm, specifically a 4.45-km resolution all-passes product that is a composite of several passes over the pole during a day [21]. This enhanced resolution product was provided by the Brigham Young University Microwave Earth Remote Sensing Laboratory [22]. All backscattering data were processed using the SIR algorithm [23], which uses multiple days of scatterometer data to create a grid-like resolution enhancement product. This algorithm assumes a linear model that relates the normalized radar cross section (σ0) to the signal incident angle (θ):\n",
        "σ0 = A + B (θ − 40).\n",
        "(1)\n",
        "The model normalizes the incident angle to 40°. This will create two images, referred to as image A (including normalized backscattering values, in dB) and image B (representing the incident angle dependence of backscattering, in dB/°). In this study, image A of the v-polarization evening pass was utilized.\n",
        "Advanced Microwave Scanning Radiometer 2 (AMSR2)\n",
        "AMSR2 is the passive microwave radiometer instrument mounted onboard the Global Change Observation Mission Water (GCOM-W) satellite, which was launched in May of 2012. The AMSR2 instrument is a conical scanning passive microwave radiometer system that measures in seven frequency bands (in the range of 6.925–89.0 GHz) in both horizontal and vertical polarizations. The antenna’s different feedhorns scan at an incidence angle of 55° and provide a 1450 km swath of coverage at the Earth’s surface. Here, we used descending passes to find TB values for each frequency and polarization. Additionally, SIC values are provided as 10-km gridded data on a polar stereographic projection from the Japan Aerospace Exploration Agency (JAXA) as the AMSR2 Level 3 (L3) products.\n",
        "As the value of σ0 is sensitive to melting of the snow or ice surface [20], melting represents a source of error. In the current study, surface melting was detected using the following procedure. Combining TB values at different frequencies and polarizations enables different stages of melting progression to be distinguished [24]. The combination of the horizontally polarized TB at 19 GHz (TB 19H) and the vertically polarized TB at 37 GHz (TB 37V) is the most sensitive index for detecting surface and subsurface melting. As snowmelt water drains from the upper snow cover to deeper layers, the emissivity of TB 19H increases and can even exceed the emissivity of TB 37V.\n",
        "Therefore, the cross-polarization ratio (XPR) can be used as an index to determine whether melting has occurred in the surface or in the subsurface layer. Arndt et al. [25] represented these combinations of TB 19H and TB 37V derived from the passive microwave radiometers SSM/I and SSMIS mounted onboard the Defense Meteorological Satellite Program (DMSP) satellites via the XPR, which is expressed using the following equation:\n",
        "XPR = TB 19H • TB 37V−1.\n",
        "(2)\n",
        "As the brightness temperature frequencies measured by the AMSR2 sensor were 18 and 36 GHz, the XPR was calculated in this study by replacing TB 19H with TB 18H and TB 37V with TB36V.\n",
        "Markus and Burns [26] developed a polynya estimation model using the polarization ratio (PR) between 37 and 85 GHz, sensed by SSM/I. Moreover, the frequency of 36 GHz is affected by the open water fraction [27]. In this study, PR36, calculated using the following equation was used for identifying drift ice of different concentrations.\n",
        "PR36 = (TB 36V − TB 36H) • (TB 36V + TB 36H))−1\n",
        "(3)\n",
        "In this study, the PR36 and XPR values were calculated using TB 18H, TB 36V, and TB 36H of the AMSR2 L3 product.\n",
        "MODIS Imagery\n",
        "The MODIS instruments onboard the Terra and Aqua spacecraft provide a wealth of spectral and spatial information about the Earth. One of the most aesthetically pleasing MODIS products is the true color images (also known as natural color images) of the Earth at a 250-m spatial resolution. MODIS is the first orbiting imaging sensor to provide such images at a reasonably high spatial resolution over a wide swathe. In the current study, we used MODIS-corrected reflectance true color GeoTIFF imagery to validate the classification results. The MODIS Imagery products were obtained from the NASA’s Earth Observing System Data and Information System (EOSDIS). Additionally, EODIS publishes coastline data via OpenStreetMap. In the current study, coastline data were used to classify areas of land and sea.\n",
        "Sentinel-1 Level 1 Product\n",
        "Sentinel-1 was launched on the 3rd of April 2014, from Kourou Spaceport in French Guiana. Data became operationally available around October of 2014, following a commissioning phase. The main instrument of Sentinel-1 is a C-band synesthetic aperture radar (C-SAR) instrument, which provides data in the form of SAR images with various modes and resolutions. Hereafter, C-band SAR images are referred to as C-SAR images for simplicity. For operational large-scale ice areas, we used the ground range detected extended wide swath mode at a medium resolution (93 × 87 m) corresponding to an equivalent number of looks of 12.7. Data were provided with 40 × 40 m pixel spacing. Sentinel-1 level 1 products were provided by the ESA’s Copernicus Open Access Hub.\n",
        "\"\"\"\n",
        "text"
      ]
    },
    {
      "cell_type": "markdown",
      "source": [
        "# 2.   Data Cleaning\n",
        "\n"
      ],
      "metadata": {
        "id": "vALI060DGP_n"
      },
      "id": "vALI060DGP_n"
    },
    {
      "cell_type": "code",
      "execution_count": null,
      "id": "8abb57fa",
      "metadata": {
        "id": "8abb57fa"
      },
      "outputs": [],
      "source": [
        "CURRENCIES = {\n",
        "    \"$\": \"USD\", \"zł\": \"PLN\", \"£\": \"GBP\", \"¥\": \"JPY\", \"฿\": \"THB\", \"₡\": \"CRC\", \"₦\": \"NGN\",\"₩\": \"KRW\",\n",
        "    \"₪\": \"ILS\", \"₫\": \"VND\", \"€\": \"EUR\", \"₱\": \"PHP\", \"₲\": \"PYG\", \"₴\": \"UAH\", \"₹\": \"INR\",}\n",
        "CURRENCY_REGEX = re.compile(\n",
        "    \"({})+\".format(\"|\".join(re.escape(c) for c in CURRENCIES.keys())))\n",
        "\n",
        "EMAIL_REGEX = re.compile(\n",
        "    r\"(?:^|(?<=[^\\w@.)]))([\\w+-](\\.(?!\\.))?)*?[\\w+-]@(?:\\w-?)*?\\w+(\\.([a-z]{2,})){1,3}(?:$|(?=\\b))\",\n",
        "    flags=re.IGNORECASE | re.UNICODE,)\n",
        "\n",
        "contractions =          {\"ain't\": \"is not\", \"aren't\": \"are not\",\"can't\": \"cannot\", \"'cause\": \"because\", \"could've\": \"could have\", \"couldn't\": \"could not\",\n",
        "                           \"didn't\": \"did not\",  \"doesn't\": \"does not\", \"don't\": \"do not\", \"hadn't\": \"had not\", \"hasn't\": \"has not\", \"haven't\": \"have not\",\n",
        "                           \"he'd\": \"he would\",\"he'll\": \"he will\", \"he's\": \"he is\", \"how'd\": \"how did\", \"how'd'y\": \"how do you\", \"how'll\": \"how will\", \"how's\": \"how is\",\n",
        "                           \"I'd\": \"I would\", \"I'd've\": \"I would have\", \"I'll\": \"I will\", \"I'll've\": \"I will have\",\"I'm\": \"I am\", \"I've\": \"I have\", \"i'd\": \"i would\",\n",
        "                           \"i'd've\": \"i would have\", \"i'll\": \"i will\",  \"i'll've\": \"i will have\",\"i'm\": \"i am\", \"i've\": \"i have\", \"isn't\": \"is not\", \"it'd\": \"it would\",\n",
        "                           \"it'd've\": \"it would have\", \"it'll\": \"it will\", \"it'll've\": \"it will have\",\"it's\": \"it is\", \"let's\": \"let us\", \"ma'am\": \"madam\",\n",
        "                           \"mayn't\": \"may not\", \"might've\": \"might have\",\"mightn't\": \"might not\",\"mightn't've\": \"might not have\", \"must've\": \"must have\",\n",
        "                           \"mustn't\": \"must not\", \"mustn't've\": \"must not have\", \"needn't\": \"need not\", \"needn't've\": \"need not have\",\"o'clock\": \"of the clock\",\n",
        "                           \"oughtn't\": \"ought not\", \"oughtn't've\": \"ought not have\", \"shan't\": \"shall not\", \"sha'n't\": \"shall not\", \"shan't've\": \"shall not have\",\n",
        "                           \"she'd\": \"she would\", \"she'd've\": \"she would have\", \"she'll\": \"she will\", \"she'll've\": \"she will have\", \"she's\": \"she is\",\n",
        "                           \"should've\": \"should have\", \"shouldn't\": \"should not\", \"shouldn't've\": \"should not have\", \"so've\": \"so have\",\"so's\": \"so as\",\n",
        "                           \"this's\": \"this is\",\"that'd\": \"that would\", \"that'd've\": \"that would have\", \"that's\": \"that is\", \"there'd\": \"there would\",\n",
        "                           \"there'd've\": \"there would have\", \"there's\": \"there is\", \"here's\": \"here is\",\"they'd\": \"they would\", \"they'd've\": \"they would have\",\n",
        "                           \"they'll\": \"they will\", \"they'll've\": \"they will have\", \"they're\": \"they are\", \"they've\": \"they have\", \"to've\": \"to have\",\n",
        "                           \"wasn't\": \"was not\", \"we'd\": \"we would\", \"we'd've\": \"we would have\", \"we'll\": \"we will\", \"we'll've\": \"we will have\", \"we're\": \"we are\",\n",
        "                           \"we've\": \"we have\", \"weren't\": \"were not\", \"what'll\": \"what will\", \"what'll've\": \"what will have\", \"what're\": \"what are\",\n",
        "                           \"what's\": \"what is\", \"what've\": \"what have\", \"when's\": \"when is\", \"when've\": \"when have\", \"where'd\": \"where did\", \"where's\": \"where is\",\n",
        "                           \"where've\": \"where have\", \"who'll\": \"who will\", \"who'll've\": \"who will have\", \"who's\": \"who is\", \"who've\": \"who have\",\n",
        "                           \"why's\": \"why is\", \"why've\": \"why have\", \"will've\": \"will have\", \"won't\": \"will not\", \"won't've\": \"will not have\",\n",
        "                           \"would've\": \"would have\", \"wouldn't\": \"would not\", \"wouldn't've\": \"would not have\", \"y'all\": \"you all\",\n",
        "                           \"y'all'd\": \"you all would\",\"y'all'd've\": \"you all would have\",\"y'all're\": \"you all are\",\"y'all've\": \"you all have\",\n",
        "                           \"you'd\": \"you would\", \"you'd've\": \"you would have\", \"you'll\": \"you will\", \"you'll've\": \"you will have\",\n",
        "                           \"you're\": \"you are\", \"you've\": \"you have\", \"i've\": \"i have\"}\n",
        "\n",
        "def clean_text(text, remove_stopwords = True):    \n",
        "    text = text.lower()\n",
        "    if True:\n",
        "        text = text.split()\n",
        "        new_text = []\n",
        "        for word in text:\n",
        "            if word in contractions:\n",
        "                new_text.append(contractions[word])\n",
        "            else:\n",
        "                new_text.append(word)\n",
        "        text = \" \".join(new_text)\n",
        "        \n",
        "    text = re.sub(r'https?:\\/\\/.*[\\r\\n]*', '', text, flags=re.MULTILINE)\n",
        "    text = EMAIL_REGEX.sub(' ',text)\n",
        "    text = CURRENCY_REGEX.sub(' ',text)\n",
        "    text = ' '.join([contractions[t] if t in contractions else t for t in text.split(\" \")])    \n",
        "    text = re.sub(r'[_\"\\-;%()|+&=*%.,!?:#$@\\[\\]/]', ' ', text)\n",
        "    text = re.sub(r\"'s\\b\",\"\", text)\n",
        "    text = re.sub(r'&amp;', '', text) \n",
        "    \n",
        "    if remove_stopwords:\n",
        "        text = text.split()\n",
        "        stops = set(stopwords.words(\"english\"))\n",
        "        text = [w for w in text if not w in stops]\n",
        "        text = \" \".join(text)\n",
        "\n",
        "    return text\n"
      ]
    },
    {
      "cell_type": "code",
      "execution_count": null,
      "id": "09e1ebf4",
      "metadata": {
        "id": "09e1ebf4",
        "outputId": "54ceeb25-4d62-4a34-afb1-fd7862170279"
      },
      "outputs": [
        {
          "data": {
            "text/plain": [
              "'!\"#$%&\\'()*+,-./:;<=>?@[\\\\]^_`{|}~\\n'"
            ]
          },
          "execution_count": 4,
          "metadata": {},
          "output_type": "execute_result"
        }
      ],
      "source": [
        "#Adding additional next line tag in it\n",
        "stopwords = list(STOP_WORDS)\n",
        "punctuation = punctuation + '\\n'\n",
        "punctuation"
      ]
    },
    {
      "cell_type": "markdown",
      "source": [
        "\n",
        "\n",
        "\n",
        "# 3.   Tokenize the words from the sentences in text\n",
        "\n",
        "\n",
        "\n",
        "\n",
        "\n"
      ],
      "metadata": {
        "id": "13yn3gNyGcky"
      },
      "id": "13yn3gNyGcky"
    },
    {
      "cell_type": "code",
      "execution_count": null,
      "id": "ae4b61f5",
      "metadata": {
        "id": "ae4b61f5",
        "outputId": "91550a75-2cf7-49d8-e9ab-a98349273af5"
      },
      "outputs": [
        {
          "name": "stdout",
          "output_type": "stream",
          "text": [
            "['\\n', 'Advanced', 'Scatterometer', '(', 'ASCAT', ')', '\\n', 'ASCAT', 'was', 'primarily', 'designed', 'to', 'provide', 'global', 'ocean', 'wind', 'vectors', 'operationally', '.', 'ASCAT', 'is', 'an', 'active', 'microwave', 'advanced', 'scatterometer', 'mounted', 'onboard', 'the', 'polar', '-', 'orbiting', 'satellites', 'MetOp', '-', 'A', 'and', 'MetOp', '-', 'B', ',', 'which', 'are', 'operated', 'by', 'the', 'European', 'Organization', 'for', 'the', 'Exploitation', 'of', 'Meteorological', 'Satellites', ',', 'and', 'these', 'satellites', 'were', 'launched', 'in', '2006', 'and', '2012', ',', 'respectively', '.', 'The', 'ASCAT', 'instrument', 'can', 'transmit', 'pulses', 'with', 'vertical', 'co', '-', 'polarization', '(', 'VV', ')', 'operating', 'in', 'the', 'C', '-', 'band', 'at', '5.255', 'GHz', '.', 'The', 'ASCAT', 'instrument', 'has', 'two', 'sets', 'of', 'three', 'fan', '-', 'beam', 'antennae', 'that', 'measure', 'the', 'returned', 'backscatter', 'signal', 'at', 'incident', 'angles', 'of', '25–65', '°', '.', 'The', 'antennae', 'extend', 'to', 'either', 'side', 'of', 'the', 'instrument', ',', 'resulting', 'in', 'a', 'double', 'swath', 'of', 'observations', ',', 'each', '550', 'km', 'wide', ',', 'separated', 'by', 'a', 'gap', 'of', 'approximately', '360', 'km', '[', '19', ']', '.', 'The', 'microwave', 'pulses', 'can', 'penetrate', 'clouds', 'and', 'are', 'not', 'dependent', 'on', 'solar', 'illumination', ',', 'meaning', 'that', 'ASCAT', 'can', 'provide', 'daily', '“', 'all', '-', 'condition', '”', 'surface', 'measurements', 'and', 'imaging', 'covering', 'approximately', '80', '%', 'of', 'the', 'globe', '[', '20', ']', '.', 'ASCAT', '’s', 'standard', 'backscatter', 'product', 'has', 'a', 'nominal', 'spatial', 'resolution', 'of', '25', 'or', '50', 'km', 'with', 'very', 'high', 'temporal', 'resolution', '(', 'i.e.', ',', 'multiple', 'passes', 'per', 'day', ')', '.', 'However', ',', 'to', 'investigate', 'the', 'small', '-', 'scale', 'ice', 'area', 'considered', 'in', 'this', 'study', ',', 'we', 'used', 'a', 'scatterometer', 'image', 'reconstruction', '(', 'SIR', ')', 'algorithm', ',', 'specifically', 'a', '4.45', '-', 'km', 'resolution', 'all', '-', 'passes', 'product', 'that', 'is', 'a', 'composite', 'of', 'several', 'passes', 'over', 'the', 'pole', 'during', 'a', 'day', '[', '21', ']', '.', 'This', 'enhanced', 'resolution', 'product', 'was', 'provided', 'by', 'the', 'Brigham', 'Young', 'University', 'Microwave', 'Earth', 'Remote', 'Sensing', 'Laboratory', '[', '22', ']', '.', 'All', 'backscattering', 'data', 'were', 'processed', 'using', 'the', 'SIR', 'algorithm', '[', '23', ']', ',', 'which', 'uses', 'multiple', 'days', 'of', 'scatterometer', 'data', 'to', 'create', 'a', 'grid', '-', 'like', 'resolution', 'enhancement', 'product', '.', 'This', 'algorithm', 'assumes', 'a', 'linear', 'model', 'that', 'relates', 'the', 'normalized', 'radar', 'cross', 'section', '(', 'σ0', ')', 'to', 'the', 'signal', 'incident', 'angle', '(', 'θ', '):', '\\n', 'σ0', '=', 'A', '+', 'B', '(', 'θ', '−', '40', ')', '.', '\\n', '(', '1', ')', '\\n', 'The', 'model', 'normalizes', 'the', 'incident', 'angle', 'to', '40', '°', '.', 'This', 'will', 'create', 'two', 'images', ',', 'referred', 'to', 'as', 'image', 'A', '(', 'including', 'normalized', 'backscattering', 'values', ',', 'in', 'dB', ')', 'and', 'image', 'B', '(', 'representing', 'the', 'incident', 'angle', 'dependence', 'of', 'backscattering', ',', 'in', 'dB/', '°', ')', '.', 'In', 'this', 'study', ',', 'image', 'A', 'of', 'the', 'v', '-', 'polarization', 'evening', 'pass', 'was', 'utilized', '.', '\\n', 'Advanced', 'Microwave', 'Scanning', 'Radiometer', '2', '(', 'AMSR2', ')', '\\n', 'AMSR2', 'is', 'the', 'passive', 'microwave', 'radiometer', 'instrument', 'mounted', 'onboard', 'the', 'Global', 'Change', 'Observation', 'Mission', 'Water', '(', 'GCOM', '-', 'W', ')', 'satellite', ',', 'which', 'was', 'launched', 'in', 'May', 'of', '2012', '.', 'The', 'AMSR2', 'instrument', 'is', 'a', 'conical', 'scanning', 'passive', 'microwave', 'radiometer', 'system', 'that', 'measures', 'in', 'seven', 'frequency', 'bands', '(', 'in', 'the', 'range', 'of', '6.925–89.0', 'GHz', ')', 'in', 'both', 'horizontal', 'and', 'vertical', 'polarizations', '.', 'The', 'antenna', '’s', 'different', 'feedhorns', 'scan', 'at', 'an', 'incidence', 'angle', 'of', '55', '°', 'and', 'provide', 'a', '1450', 'km', 'swath', 'of', 'coverage', 'at', 'the', 'Earth', '’s', 'surface', '.', 'Here', ',', 'we', 'used', 'descending', 'passes', 'to', 'find', 'TB', 'values', 'for', 'each', 'frequency', 'and', 'polarization', '.', 'Additionally', ',', 'SIC', 'values', 'are', 'provided', 'as', '10', '-', 'km', 'gridded', 'data', 'on', 'a', 'polar', 'stereographic', 'projection', 'from', 'the', 'Japan', 'Aerospace', 'Exploration', 'Agency', '(', 'JAXA', ')', 'as', 'the', 'AMSR2', 'Level', '3', '(', 'L3', ')', 'products', '.', '\\n', 'As', 'the', 'value', 'of', 'σ0', 'is', 'sensitive', 'to', 'melting', 'of', 'the', 'snow', 'or', 'ice', 'surface', '[', '20', ']', ',', 'melting', 'represents', 'a', 'source', 'of', 'error', '.', 'In', 'the', 'current', 'study', ',', 'surface', 'melting', 'was', 'detected', 'using', 'the', 'following', 'procedure', '.', 'Combining', 'TB', 'values', 'at', 'different', 'frequencies', 'and', 'polarizations', 'enables', 'different', 'stages', 'of', 'melting', 'progression', 'to', 'be', 'distinguished', '[', '24', ']', '.', 'The', 'combination', 'of', 'the', 'horizontally', 'polarized', 'TB', 'at', '19', 'GHz', '(', 'TB', '19H', ')', 'and', 'the', 'vertically', 'polarized', 'TB', 'at', '37', 'GHz', '(', 'TB', '37V', ')', 'is', 'the', 'most', 'sensitive', 'index', 'for', 'detecting', 'surface', 'and', 'subsurface', 'melting', '.', 'As', 'snowmelt', 'water', 'drains', 'from', 'the', 'upper', 'snow', 'cover', 'to', 'deeper', 'layers', ',', 'the', 'emissivity', 'of', 'TB', '19H', 'increases', 'and', 'can', 'even', 'exceed', 'the', 'emissivity', 'of', 'TB', '37V.', '\\n', 'Therefore', ',', 'the', 'cross', '-', 'polarization', 'ratio', '(', 'XPR', ')', 'can', 'be', 'used', 'as', 'an', 'index', 'to', 'determine', 'whether', 'melting', 'has', 'occurred', 'in', 'the', 'surface', 'or', 'in', 'the', 'subsurface', 'layer', '.', 'Arndt', 'et', 'al', '.', '[', '25', ']', 'represented', 'these', 'combinations', 'of', 'TB', '19H', 'and', 'TB', '37V', 'derived', 'from', 'the', 'passive', 'microwave', 'radiometers', 'SSM', '/', 'I', 'and', 'SSMIS', 'mounted', 'onboard', 'the', 'Defense', 'Meteorological', 'Satellite', 'Program', '(', 'DMSP', ')', 'satellites', 'via', 'the', 'XPR', ',', 'which', 'is', 'expressed', 'using', 'the', 'following', 'equation', ':', '\\n', 'XPR', '=', 'TB', '19H', '•', 'TB', '37V−1', '.', '\\n', '(', '2', ')', '\\n', 'As', 'the', 'brightness', 'temperature', 'frequencies', 'measured', 'by', 'the', 'AMSR2', 'sensor', 'were', '18', 'and', '36', 'GHz', ',', 'the', 'XPR', 'was', 'calculated', 'in', 'this', 'study', 'by', 'replacing', 'TB', '19H', 'with', 'TB', '18H', 'and', 'TB', '37V', 'with', 'TB36V.', '\\n', 'Markus', 'and', 'Burns', '[', '26', ']', 'developed', 'a', 'polynya', 'estimation', 'model', 'using', 'the', 'polarization', 'ratio', '(', 'PR', ')', 'between', '37', 'and', '85', 'GHz', ',', 'sensed', 'by', 'SSM', '/', 'I.', 'Moreover', ',', 'the', 'frequency', 'of', '36', 'GHz', 'is', 'affected', 'by', 'the', 'open', 'water', 'fraction', '[', '27', ']', '.', 'In', 'this', 'study', ',', 'PR36', ',', 'calculated', 'using', 'the', 'following', 'equation', 'was', 'used', 'for', 'identifying', 'drift', 'ice', 'of', 'different', 'concentrations', '.', '\\n', 'PR36', '=', '(', 'TB', '36V', '−', 'TB', '36H', ')', '•', '(', 'TB', '36V', '+', 'TB', '36H))−1', '\\n', '(', '3', ')', '\\n', 'In', 'this', 'study', ',', 'the', 'PR36', 'and', 'XPR', 'values', 'were', 'calculated', 'using', 'TB', '18H', ',', 'TB', '36V', ',', 'and', 'TB', '36H', 'of', 'the', 'AMSR2', 'L3', 'product', '.', '\\n', 'MODIS', 'Imagery', '\\n', 'The', 'MODIS', 'instruments', 'onboard', 'the', 'Terra', 'and', 'Aqua', 'spacecraft', 'provide', 'a', 'wealth', 'of', 'spectral', 'and', 'spatial', 'information', 'about', 'the', 'Earth', '.', 'One', 'of', 'the', 'most', 'aesthetically', 'pleasing', 'MODIS', 'products', 'is', 'the', 'true', 'color', 'images', '(', 'also', 'known', 'as', 'natural', 'color', 'images', ')', 'of', 'the', 'Earth', 'at', 'a', '250', '-', 'm', 'spatial', 'resolution', '.', 'MODIS', 'is', 'the', 'first', 'orbiting', 'imaging', 'sensor', 'to', 'provide', 'such', 'images', 'at', 'a', 'reasonably', 'high', 'spatial', 'resolution', 'over', 'a', 'wide', 'swathe', '.', 'In', 'the', 'current', 'study', ',', 'we', 'used', 'MODIS', '-', 'corrected', 'reflectance', 'true', 'color', 'GeoTIFF', 'imagery', 'to', 'validate', 'the', 'classification', 'results', '.', 'The', 'MODIS', 'Imagery', 'products', 'were', 'obtained', 'from', 'the', 'NASA', '’s', 'Earth', 'Observing', 'System', 'Data', 'and', 'Information', 'System', '(', 'EOSDIS', ')', '.', 'Additionally', ',', 'EODIS', 'publishes', 'coastline', 'data', 'via', 'OpenStreetMap', '.', 'In', 'the', 'current', 'study', ',', 'coastline', 'data', 'were', 'used', 'to', 'classify', 'areas', 'of', 'land', 'and', 'sea', '.', '\\n', 'Sentinel-1', 'Level', '1', 'Product', '\\n', 'Sentinel-1', 'was', 'launched', 'on', 'the', '3rd', 'of', 'April', '2014', ',', 'from', 'Kourou', 'Spaceport', 'in', 'French', 'Guiana', '.', 'Data', 'became', 'operationally', 'available', 'around', 'October', 'of', '2014', ',', 'following', 'a', 'commissioning', 'phase', '.', 'The', 'main', 'instrument', 'of', 'Sentinel-1', 'is', 'a', 'C', '-', 'band', 'synesthetic', 'aperture', 'radar', '(', 'C', '-', 'SAR', ')', 'instrument', ',', 'which', 'provides', 'data', 'in', 'the', 'form', 'of', 'SAR', 'images', 'with', 'various', 'modes', 'and', 'resolutions', '.', 'Hereafter', ',', 'C', '-', 'band', 'SAR', 'images', 'are', 'referred', 'to', 'as', 'C', '-', 'SAR', 'images', 'for', 'simplicity', '.', 'For', 'operational', 'large', '-', 'scale', 'ice', 'areas', ',', 'we', 'used', 'the', 'ground', 'range', 'detected', 'extended', 'wide', 'swath', 'mode', 'at', 'a', 'medium', 'resolution', '(', '93', '×', '87', 'm', ')', 'corresponding', 'to', 'an', 'equivalent', 'number', 'of', 'looks', 'of', '12.7', '.', 'Data', 'were', 'provided', 'with', '40', '×', '40', 'm', 'pixel', 'spacing', '.', 'Sentinel-1', 'level', '1', 'products', 'were', 'provided', 'by', 'the', 'ESA', '’s', 'Copernicus', 'Open', 'Access', 'Hub', '.', '\\n']\n"
          ]
        }
      ],
      "source": [
        "nlp = spacy.load('en_core_web_sm')\n",
        "doc = nlp(text)\n",
        "tokens = [token.text for token in doc]\n",
        "print(tokens)"
      ]
    },
    {
      "cell_type": "markdown",
      "source": [
        "# 4. Calculate word frequencies from text after removing the stopwords and punctuations"
      ],
      "metadata": {
        "id": "jsdOwGzKGsml"
      },
      "id": "jsdOwGzKGsml"
    },
    {
      "cell_type": "code",
      "execution_count": null,
      "id": "80da08bb",
      "metadata": {
        "id": "80da08bb",
        "outputId": "e091fb2c-8c89-4db9-b922-3a3ea8ed84f7"
      },
      "outputs": [
        {
          "name": "stdout",
          "output_type": "stream",
          "text": [
            "{'\\n': 21, 'Advanced': 2, 'Scatterometer': 1, '(': 28, 'ASCAT': 7, ')': 26, 'primarily': 1, 'designed': 1, 'provide': 5, 'global': 1, 'ocean': 1, 'wind': 1, 'vectors': 1, 'operationally': 2, '.': 43, 'active': 1, 'microwave': 5, 'advanced': 1, 'scatterometer': 3, 'mounted': 3, 'onboard': 4, 'polar': 2, '-': 22, 'orbiting': 2, 'satellites': 3, 'MetOp': 2, 'B': 3, ',': 40, 'operated': 1, 'European': 1, 'Organization': 1, 'Exploitation': 1, 'Meteorological': 2, 'Satellites': 1, 'launched': 3, '2006': 1, '2012': 2, 'respectively': 1, 'instrument': 7, 'transmit': 1, 'pulses': 2, 'vertical': 2, 'co': 1, 'polarization': 5, 'VV': 1, 'operating': 1, 'C': 5, 'band': 3, '5.255': 1, 'GHz': 7, 'sets': 1, 'fan': 1, 'beam': 1, 'antennae': 2, 'measure': 1, 'returned': 1, 'backscatter': 2, 'signal': 2, 'incident': 4, 'angles': 1, '25–65': 1, '°': 4, 'extend': 1, 'resulting': 1, 'double': 1, 'swath': 3, 'observations': 1, '550': 1, 'km': 6, 'wide': 3, 'separated': 1, 'gap': 1, 'approximately': 2, '360': 1, '[': 10, '19': 2, ']': 10, 'penetrate': 1, 'clouds': 1, 'dependent': 1, 'solar': 1, 'illumination': 1, 'meaning': 1, 'daily': 1, '“': 1, 'condition': 1, '”': 1, 'surface': 6, 'measurements': 1, 'imaging': 2, 'covering': 1, '80': 1, '%': 1, 'globe': 1, '20': 2, 'standard': 1, 'product': 5, 'nominal': 1, 'spatial': 4, 'resolution': 8, '25': 2, '50': 1, 'high': 2, 'temporal': 1, 'i.e.': 1, 'multiple': 2, 'passes': 4, 'day': 2, 'investigate': 1, 'small': 1, 'scale': 2, 'ice': 4, 'area': 1, 'considered': 1, 'study': 8, 'image': 4, 'reconstruction': 1, 'SIR': 2, 'algorithm': 3, 'specifically': 1, '4.45': 1, 'composite': 1, 'pole': 1, '21': 1, 'enhanced': 1, 'provided': 4, 'Brigham': 1, 'Young': 1, 'University': 1, 'Microwave': 2, 'Earth': 5, 'Remote': 1, 'Sensing': 1, 'Laboratory': 1, '22': 1, 'backscattering': 3, 'data': 6, 'processed': 1, '23': 1, 'uses': 1, 'days': 1, 'create': 2, 'grid': 1, 'like': 1, 'enhancement': 1, 'assumes': 1, 'linear': 1, 'model': 3, 'relates': 1, 'normalized': 2, 'radar': 2, 'cross': 2, 'section': 1, 'σ0': 3, 'angle': 4, 'θ': 2, '):': 1, '=': 3, '+': 2, '−': 2, '40': 4, '1': 3, 'normalizes': 1, 'images': 7, 'referred': 2, 'including': 1, 'values': 5, 'dB': 1, 'representing': 1, 'dependence': 1, 'dB/': 1, 'v': 1, 'evening': 1, 'pass': 1, 'utilized': 1, 'Scanning': 1, 'Radiometer': 1, '2': 2, 'AMSR2': 6, 'passive': 3, 'radiometer': 2, 'Global': 1, 'Change': 1, 'Observation': 1, 'Mission': 1, 'Water': 1, 'GCOM': 1, 'W': 1, 'satellite': 1, 'conical': 1, 'scanning': 1, 'system': 1, 'measures': 1, 'seven': 1, 'frequency': 3, 'bands': 1, 'range': 2, '6.925–89.0': 1, 'horizontal': 1, 'polarizations': 2, 'antenna': 1, 'different': 4, 'feedhorns': 1, 'scan': 1, 'incidence': 1, '55': 1, '1450': 1, 'coverage': 1, 'descending': 1, 'find': 1, 'TB': 22, 'Additionally': 2, 'SIC': 1, '10': 1, 'gridded': 1, 'stereographic': 1, 'projection': 1, 'Japan': 1, 'Aerospace': 1, 'Exploration': 1, 'Agency': 1, 'JAXA': 1, 'Level': 2, '3': 2, 'L3': 2, 'products': 4, 'value': 1, 'sensitive': 2, 'melting': 6, 'snow': 2, 'represents': 1, 'source': 1, 'error': 1, 'current': 3, 'detected': 2, 'following': 4, 'procedure': 1, 'Combining': 1, 'frequencies': 2, 'enables': 1, 'stages': 1, 'progression': 1, 'distinguished': 1, '24': 1, 'combination': 1, 'horizontally': 1, 'polarized': 2, '19H': 5, 'vertically': 1, '37': 2, '37V': 3, 'index': 2, 'detecting': 1, 'subsurface': 2, 'snowmelt': 1, 'water': 2, 'drains': 1, 'upper': 1, 'cover': 1, 'deeper': 1, 'layers': 1, 'emissivity': 2, 'increases': 1, 'exceed': 1, '37V.': 1, 'ratio': 2, 'XPR': 5, 'determine': 1, 'occurred': 1, 'layer': 1, 'Arndt': 1, 'et': 1, 'al': 1, 'represented': 1, 'combinations': 1, 'derived': 1, 'radiometers': 1, 'SSM': 2, '/': 2, 'SSMIS': 1, 'Defense': 1, 'Satellite': 1, 'Program': 1, 'DMSP': 1, 'expressed': 1, 'equation': 2, ':': 1, '•': 2, '37V−1': 1, 'brightness': 1, 'temperature': 1, 'measured': 1, 'sensor': 2, '18': 1, '36': 2, 'calculated': 3, 'replacing': 1, '18H': 2, 'TB36V.': 1, 'Markus': 1, 'Burns': 1, '26': 1, 'developed': 1, 'polynya': 1, 'estimation': 1, 'PR': 1, '85': 1, 'sensed': 1, 'I.': 1, 'affected': 1, 'open': 1, 'fraction': 1, '27': 1, 'PR36': 3, 'identifying': 1, 'drift': 1, 'concentrations': 1, '36V': 3, '36H': 2, '36H))−1': 1, 'MODIS': 6, 'Imagery': 2, 'instruments': 1, 'Terra': 1, 'Aqua': 1, 'spacecraft': 1, 'wealth': 1, 'spectral': 1, 'information': 1, 'aesthetically': 1, 'pleasing': 1, 'true': 2, 'color': 3, 'known': 1, 'natural': 1, '250': 1, 'm': 3, 'reasonably': 1, 'swathe': 1, 'corrected': 1, 'reflectance': 1, 'GeoTIFF': 1, 'imagery': 1, 'validate': 1, 'classification': 1, 'results': 1, 'obtained': 1, 'NASA': 1, 'Observing': 1, 'System': 2, 'Data': 3, 'Information': 1, 'EOSDIS': 1, 'EODIS': 1, 'publishes': 1, 'coastline': 2, 'OpenStreetMap': 1, 'classify': 1, 'areas': 2, 'land': 1, 'sea': 1, 'Sentinel-1': 4, 'Product': 1, '3rd': 1, 'April': 1, '2014': 2, 'Kourou': 1, 'Spaceport': 1, 'French': 1, 'Guiana': 1, 'available': 1, 'October': 1, 'commissioning': 1, 'phase': 1, 'main': 1, 'synesthetic': 1, 'aperture': 1, 'SAR': 4, 'provides': 1, 'form': 1, 'modes': 1, 'resolutions': 1, 'simplicity': 1, 'operational': 1, 'large': 1, 'ground': 1, 'extended': 1, 'mode': 1, 'medium': 1, '93': 1, '×': 2, '87': 1, 'corresponding': 1, 'equivalent': 1, 'number': 1, 'looks': 1, '12.7': 1, 'pixel': 1, 'spacing': 1, 'level': 1, 'ESA': 1, 'Copernicus': 1, 'Open': 1, 'Access': 1, 'Hub': 1}\n"
          ]
        }
      ],
      "source": [
        "word_frequencies = {}\n",
        "for word in doc:\n",
        "    if word.text.lower() not in stopwords:\n",
        "        if word.text not in word_frequencies.keys():\n",
        "            word_frequencies[word.text] = 1\n",
        "        else:\n",
        "            word_frequencies[word.text] += 1\n",
        "print(word_frequencies)"
      ]
    },
    {
      "cell_type": "markdown",
      "source": [
        "# 5. Calculate the maximum frequency and divide it by all frequencies to get normalized word frequencies."
      ],
      "metadata": {
        "id": "EK3-qgX_HJR4"
      },
      "id": "EK3-qgX_HJR4"
    },
    {
      "cell_type": "code",
      "execution_count": null,
      "id": "233ff5f2",
      "metadata": {
        "id": "233ff5f2",
        "outputId": "6daafc57-4f6b-4628-de74-bf11c355f357"
      },
      "outputs": [
        {
          "data": {
            "text/plain": [
              "43"
            ]
          },
          "execution_count": 7,
          "metadata": {},
          "output_type": "execute_result"
        }
      ],
      "source": [
        "max_frequency = max(word_frequencies.values())\n",
        "max_frequency"
      ]
    },
    {
      "cell_type": "code",
      "execution_count": null,
      "id": "0a1a92b8",
      "metadata": {
        "id": "0a1a92b8",
        "outputId": "dffee91a-8d36-4016-8674-07ad801816c2"
      },
      "outputs": [
        {
          "name": "stdout",
          "output_type": "stream",
          "text": [
            "{'\\n': 0.4883720930232558, 'Advanced': 0.046511627906976744, 'Scatterometer': 0.023255813953488372, '(': 0.6511627906976745, 'ASCAT': 0.16279069767441862, ')': 0.6046511627906976, 'primarily': 0.023255813953488372, 'designed': 0.023255813953488372, 'provide': 0.11627906976744186, 'global': 0.023255813953488372, 'ocean': 0.023255813953488372, 'wind': 0.023255813953488372, 'vectors': 0.023255813953488372, 'operationally': 0.046511627906976744, '.': 1.0, 'active': 0.023255813953488372, 'microwave': 0.11627906976744186, 'advanced': 0.023255813953488372, 'scatterometer': 0.06976744186046512, 'mounted': 0.06976744186046512, 'onboard': 0.09302325581395349, 'polar': 0.046511627906976744, '-': 0.5116279069767442, 'orbiting': 0.046511627906976744, 'satellites': 0.06976744186046512, 'MetOp': 0.046511627906976744, 'B': 0.06976744186046512, ',': 0.9302325581395349, 'operated': 0.023255813953488372, 'European': 0.023255813953488372, 'Organization': 0.023255813953488372, 'Exploitation': 0.023255813953488372, 'Meteorological': 0.046511627906976744, 'Satellites': 0.023255813953488372, 'launched': 0.06976744186046512, '2006': 0.023255813953488372, '2012': 0.046511627906976744, 'respectively': 0.023255813953488372, 'instrument': 0.16279069767441862, 'transmit': 0.023255813953488372, 'pulses': 0.046511627906976744, 'vertical': 0.046511627906976744, 'co': 0.023255813953488372, 'polarization': 0.11627906976744186, 'VV': 0.023255813953488372, 'operating': 0.023255813953488372, 'C': 0.11627906976744186, 'band': 0.06976744186046512, '5.255': 0.023255813953488372, 'GHz': 0.16279069767441862, 'sets': 0.023255813953488372, 'fan': 0.023255813953488372, 'beam': 0.023255813953488372, 'antennae': 0.046511627906976744, 'measure': 0.023255813953488372, 'returned': 0.023255813953488372, 'backscatter': 0.046511627906976744, 'signal': 0.046511627906976744, 'incident': 0.09302325581395349, 'angles': 0.023255813953488372, '25–65': 0.023255813953488372, '°': 0.09302325581395349, 'extend': 0.023255813953488372, 'resulting': 0.023255813953488372, 'double': 0.023255813953488372, 'swath': 0.06976744186046512, 'observations': 0.023255813953488372, '550': 0.023255813953488372, 'km': 0.13953488372093023, 'wide': 0.06976744186046512, 'separated': 0.023255813953488372, 'gap': 0.023255813953488372, 'approximately': 0.046511627906976744, '360': 0.023255813953488372, '[': 0.23255813953488372, '19': 0.046511627906976744, ']': 0.23255813953488372, 'penetrate': 0.023255813953488372, 'clouds': 0.023255813953488372, 'dependent': 0.023255813953488372, 'solar': 0.023255813953488372, 'illumination': 0.023255813953488372, 'meaning': 0.023255813953488372, 'daily': 0.023255813953488372, '“': 0.023255813953488372, 'condition': 0.023255813953488372, '”': 0.023255813953488372, 'surface': 0.13953488372093023, 'measurements': 0.023255813953488372, 'imaging': 0.046511627906976744, 'covering': 0.023255813953488372, '80': 0.023255813953488372, '%': 0.023255813953488372, 'globe': 0.023255813953488372, '20': 0.046511627906976744, 'standard': 0.023255813953488372, 'product': 0.11627906976744186, 'nominal': 0.023255813953488372, 'spatial': 0.09302325581395349, 'resolution': 0.18604651162790697, '25': 0.046511627906976744, '50': 0.023255813953488372, 'high': 0.046511627906976744, 'temporal': 0.023255813953488372, 'i.e.': 0.023255813953488372, 'multiple': 0.046511627906976744, 'passes': 0.09302325581395349, 'day': 0.046511627906976744, 'investigate': 0.023255813953488372, 'small': 0.023255813953488372, 'scale': 0.046511627906976744, 'ice': 0.09302325581395349, 'area': 0.023255813953488372, 'considered': 0.023255813953488372, 'study': 0.18604651162790697, 'image': 0.09302325581395349, 'reconstruction': 0.023255813953488372, 'SIR': 0.046511627906976744, 'algorithm': 0.06976744186046512, 'specifically': 0.023255813953488372, '4.45': 0.023255813953488372, 'composite': 0.023255813953488372, 'pole': 0.023255813953488372, '21': 0.023255813953488372, 'enhanced': 0.023255813953488372, 'provided': 0.09302325581395349, 'Brigham': 0.023255813953488372, 'Young': 0.023255813953488372, 'University': 0.023255813953488372, 'Microwave': 0.046511627906976744, 'Earth': 0.11627906976744186, 'Remote': 0.023255813953488372, 'Sensing': 0.023255813953488372, 'Laboratory': 0.023255813953488372, '22': 0.023255813953488372, 'backscattering': 0.06976744186046512, 'data': 0.13953488372093023, 'processed': 0.023255813953488372, '23': 0.023255813953488372, 'uses': 0.023255813953488372, 'days': 0.023255813953488372, 'create': 0.046511627906976744, 'grid': 0.023255813953488372, 'like': 0.023255813953488372, 'enhancement': 0.023255813953488372, 'assumes': 0.023255813953488372, 'linear': 0.023255813953488372, 'model': 0.06976744186046512, 'relates': 0.023255813953488372, 'normalized': 0.046511627906976744, 'radar': 0.046511627906976744, 'cross': 0.046511627906976744, 'section': 0.023255813953488372, 'σ0': 0.06976744186046512, 'angle': 0.09302325581395349, 'θ': 0.046511627906976744, '):': 0.023255813953488372, '=': 0.06976744186046512, '+': 0.046511627906976744, '−': 0.046511627906976744, '40': 0.09302325581395349, '1': 0.06976744186046512, 'normalizes': 0.023255813953488372, 'images': 0.16279069767441862, 'referred': 0.046511627906976744, 'including': 0.023255813953488372, 'values': 0.11627906976744186, 'dB': 0.023255813953488372, 'representing': 0.023255813953488372, 'dependence': 0.023255813953488372, 'dB/': 0.023255813953488372, 'v': 0.023255813953488372, 'evening': 0.023255813953488372, 'pass': 0.023255813953488372, 'utilized': 0.023255813953488372, 'Scanning': 0.023255813953488372, 'Radiometer': 0.023255813953488372, '2': 0.046511627906976744, 'AMSR2': 0.13953488372093023, 'passive': 0.06976744186046512, 'radiometer': 0.046511627906976744, 'Global': 0.023255813953488372, 'Change': 0.023255813953488372, 'Observation': 0.023255813953488372, 'Mission': 0.023255813953488372, 'Water': 0.023255813953488372, 'GCOM': 0.023255813953488372, 'W': 0.023255813953488372, 'satellite': 0.023255813953488372, 'conical': 0.023255813953488372, 'scanning': 0.023255813953488372, 'system': 0.023255813953488372, 'measures': 0.023255813953488372, 'seven': 0.023255813953488372, 'frequency': 0.06976744186046512, 'bands': 0.023255813953488372, 'range': 0.046511627906976744, '6.925–89.0': 0.023255813953488372, 'horizontal': 0.023255813953488372, 'polarizations': 0.046511627906976744, 'antenna': 0.023255813953488372, 'different': 0.09302325581395349, 'feedhorns': 0.023255813953488372, 'scan': 0.023255813953488372, 'incidence': 0.023255813953488372, '55': 0.023255813953488372, '1450': 0.023255813953488372, 'coverage': 0.023255813953488372, 'descending': 0.023255813953488372, 'find': 0.023255813953488372, 'TB': 0.5116279069767442, 'Additionally': 0.046511627906976744, 'SIC': 0.023255813953488372, '10': 0.023255813953488372, 'gridded': 0.023255813953488372, 'stereographic': 0.023255813953488372, 'projection': 0.023255813953488372, 'Japan': 0.023255813953488372, 'Aerospace': 0.023255813953488372, 'Exploration': 0.023255813953488372, 'Agency': 0.023255813953488372, 'JAXA': 0.023255813953488372, 'Level': 0.046511627906976744, '3': 0.046511627906976744, 'L3': 0.046511627906976744, 'products': 0.09302325581395349, 'value': 0.023255813953488372, 'sensitive': 0.046511627906976744, 'melting': 0.13953488372093023, 'snow': 0.046511627906976744, 'represents': 0.023255813953488372, 'source': 0.023255813953488372, 'error': 0.023255813953488372, 'current': 0.06976744186046512, 'detected': 0.046511627906976744, 'following': 0.09302325581395349, 'procedure': 0.023255813953488372, 'Combining': 0.023255813953488372, 'frequencies': 0.046511627906976744, 'enables': 0.023255813953488372, 'stages': 0.023255813953488372, 'progression': 0.023255813953488372, 'distinguished': 0.023255813953488372, '24': 0.023255813953488372, 'combination': 0.023255813953488372, 'horizontally': 0.023255813953488372, 'polarized': 0.046511627906976744, '19H': 0.11627906976744186, 'vertically': 0.023255813953488372, '37': 0.046511627906976744, '37V': 0.06976744186046512, 'index': 0.046511627906976744, 'detecting': 0.023255813953488372, 'subsurface': 0.046511627906976744, 'snowmelt': 0.023255813953488372, 'water': 0.046511627906976744, 'drains': 0.023255813953488372, 'upper': 0.023255813953488372, 'cover': 0.023255813953488372, 'deeper': 0.023255813953488372, 'layers': 0.023255813953488372, 'emissivity': 0.046511627906976744, 'increases': 0.023255813953488372, 'exceed': 0.023255813953488372, '37V.': 0.023255813953488372, 'ratio': 0.046511627906976744, 'XPR': 0.11627906976744186, 'determine': 0.023255813953488372, 'occurred': 0.023255813953488372, 'layer': 0.023255813953488372, 'Arndt': 0.023255813953488372, 'et': 0.023255813953488372, 'al': 0.023255813953488372, 'represented': 0.023255813953488372, 'combinations': 0.023255813953488372, 'derived': 0.023255813953488372, 'radiometers': 0.023255813953488372, 'SSM': 0.046511627906976744, '/': 0.046511627906976744, 'SSMIS': 0.023255813953488372, 'Defense': 0.023255813953488372, 'Satellite': 0.023255813953488372, 'Program': 0.023255813953488372, 'DMSP': 0.023255813953488372, 'expressed': 0.023255813953488372, 'equation': 0.046511627906976744, ':': 0.023255813953488372, '•': 0.046511627906976744, '37V−1': 0.023255813953488372, 'brightness': 0.023255813953488372, 'temperature': 0.023255813953488372, 'measured': 0.023255813953488372, 'sensor': 0.046511627906976744, '18': 0.023255813953488372, '36': 0.046511627906976744, 'calculated': 0.06976744186046512, 'replacing': 0.023255813953488372, '18H': 0.046511627906976744, 'TB36V.': 0.023255813953488372, 'Markus': 0.023255813953488372, 'Burns': 0.023255813953488372, '26': 0.023255813953488372, 'developed': 0.023255813953488372, 'polynya': 0.023255813953488372, 'estimation': 0.023255813953488372, 'PR': 0.023255813953488372, '85': 0.023255813953488372, 'sensed': 0.023255813953488372, 'I.': 0.023255813953488372, 'affected': 0.023255813953488372, 'open': 0.023255813953488372, 'fraction': 0.023255813953488372, '27': 0.023255813953488372, 'PR36': 0.06976744186046512, 'identifying': 0.023255813953488372, 'drift': 0.023255813953488372, 'concentrations': 0.023255813953488372, '36V': 0.06976744186046512, '36H': 0.046511627906976744, '36H))−1': 0.023255813953488372, 'MODIS': 0.13953488372093023, 'Imagery': 0.046511627906976744, 'instruments': 0.023255813953488372, 'Terra': 0.023255813953488372, 'Aqua': 0.023255813953488372, 'spacecraft': 0.023255813953488372, 'wealth': 0.023255813953488372, 'spectral': 0.023255813953488372, 'information': 0.023255813953488372, 'aesthetically': 0.023255813953488372, 'pleasing': 0.023255813953488372, 'true': 0.046511627906976744, 'color': 0.06976744186046512, 'known': 0.023255813953488372, 'natural': 0.023255813953488372, '250': 0.023255813953488372, 'm': 0.06976744186046512, 'reasonably': 0.023255813953488372, 'swathe': 0.023255813953488372, 'corrected': 0.023255813953488372, 'reflectance': 0.023255813953488372, 'GeoTIFF': 0.023255813953488372, 'imagery': 0.023255813953488372, 'validate': 0.023255813953488372, 'classification': 0.023255813953488372, 'results': 0.023255813953488372, 'obtained': 0.023255813953488372, 'NASA': 0.023255813953488372, 'Observing': 0.023255813953488372, 'System': 0.046511627906976744, 'Data': 0.06976744186046512, 'Information': 0.023255813953488372, 'EOSDIS': 0.023255813953488372, 'EODIS': 0.023255813953488372, 'publishes': 0.023255813953488372, 'coastline': 0.046511627906976744, 'OpenStreetMap': 0.023255813953488372, 'classify': 0.023255813953488372, 'areas': 0.046511627906976744, 'land': 0.023255813953488372, 'sea': 0.023255813953488372, 'Sentinel-1': 0.09302325581395349, 'Product': 0.023255813953488372, '3rd': 0.023255813953488372, 'April': 0.023255813953488372, '2014': 0.046511627906976744, 'Kourou': 0.023255813953488372, 'Spaceport': 0.023255813953488372, 'French': 0.023255813953488372, 'Guiana': 0.023255813953488372, 'available': 0.023255813953488372, 'October': 0.023255813953488372, 'commissioning': 0.023255813953488372, 'phase': 0.023255813953488372, 'main': 0.023255813953488372, 'synesthetic': 0.023255813953488372, 'aperture': 0.023255813953488372, 'SAR': 0.09302325581395349, 'provides': 0.023255813953488372, 'form': 0.023255813953488372, 'modes': 0.023255813953488372, 'resolutions': 0.023255813953488372, 'simplicity': 0.023255813953488372, 'operational': 0.023255813953488372, 'large': 0.023255813953488372, 'ground': 0.023255813953488372, 'extended': 0.023255813953488372, 'mode': 0.023255813953488372, 'medium': 0.023255813953488372, '93': 0.023255813953488372, '×': 0.046511627906976744, '87': 0.023255813953488372, 'corresponding': 0.023255813953488372, 'equivalent': 0.023255813953488372, 'number': 0.023255813953488372, 'looks': 0.023255813953488372, '12.7': 0.023255813953488372, 'pixel': 0.023255813953488372, 'spacing': 0.023255813953488372, 'level': 0.023255813953488372, 'ESA': 0.023255813953488372, 'Copernicus': 0.023255813953488372, 'Open': 0.023255813953488372, 'Access': 0.023255813953488372, 'Hub': 0.023255813953488372}\n"
          ]
        }
      ],
      "source": [
        "for word in word_frequencies.keys():\n",
        "    word_frequencies[word] = word_frequencies[word]/max_frequency\n",
        "print(word_frequencies)"
      ]
    },
    {
      "cell_type": "markdown",
      "source": [
        "# 6. Get sentence tokens"
      ],
      "metadata": {
        "id": "idVmzXAPHVO0"
      },
      "id": "idVmzXAPHVO0"
    },
    {
      "cell_type": "code",
      "execution_count": null,
      "id": "6893ce95",
      "metadata": {
        "id": "6893ce95",
        "outputId": "d4b98f48-1931-41cd-8374-bad327a6fbc0"
      },
      "outputs": [
        {
          "name": "stdout",
          "output_type": "stream",
          "text": [
            "[\n",
            "Advanced Scatterometer (ASCAT)\n",
            "ASCAT was primarily designed to provide global ocean wind vectors operationally., ASCAT is an active microwave advanced scatterometer mounted onboard the polar-orbiting satellites MetOp-A and MetOp-B, which are operated by the European Organization for the Exploitation of Meteorological Satellites, and these satellites were launched in 2006 and 2012, respectively., The ASCAT instrument can transmit pulses with vertical co-polarization (VV) operating in the C-band at 5.255 GHz., The ASCAT instrument has two sets of three fan-beam antennae that measure the returned backscatter signal at incident angles of 25–65°., The antennae extend to either side of the instrument, resulting in a double swath of observations, each 550 km wide, separated by a gap of approximately 360 km [19]., The microwave pulses can penetrate clouds and are not dependent on solar illumination, meaning that ASCAT can provide daily “all-condition” surface measurements and imaging covering approximately 80% of the globe [20]., ASCAT’s standard backscatter product has a nominal spatial resolution of 25 or 50 km with very high temporal resolution (i.e., multiple passes per day)., However, to investigate the small-scale ice area considered in this study, we used a scatterometer image reconstruction (SIR) algorithm, specifically a 4.45-km resolution all-passes product that is a composite of several passes over the pole during a day [21]., This enhanced resolution product was provided by the Brigham Young University Microwave Earth Remote Sensing Laboratory [22]., All backscattering data were processed using the SIR algorithm [23], which uses multiple days of scatterometer data to create a grid-like resolution enhancement product., This algorithm assumes a linear model that relates the normalized radar cross section (σ0) to the signal incident angle (θ):\n",
            "σ0 =, A + B (θ − 40)., \n",
            "(1)\n",
            "The model normalizes the incident angle to 40°., This will create two images, referred to as image A (including normalized backscattering values, in dB) and image B (representing the incident angle dependence of backscattering, in dB/°)., In this study, image A of the v-polarization evening pass was utilized., \n",
            "Advanced Microwave Scanning Radiometer 2 (AMSR2)\n",
            "AMSR2 is the passive microwave radiometer instrument mounted onboard the Global Change Observation Mission Water (GCOM-W) satellite, which was launched in May of 2012., The AMSR2 instrument is a conical scanning passive microwave radiometer system that measures in seven frequency bands (in the range of 6.925–89.0 GHz) in both horizontal and vertical polarizations., The antenna’s different feedhorns scan at an incidence angle of 55° and provide a 1450 km swath of coverage at the Earth’s surface., Here, we used descending passes to find TB values for each frequency and polarization., Additionally, SIC values are provided as 10-km gridded data on a polar stereographic projection from the Japan Aerospace Exploration Agency (JAXA) as the AMSR2 Level 3 (L3) products., \n",
            "As the value of σ0 is sensitive to melting of the snow or ice surface [20], melting represents a source of error., In the current study, surface melting was detected using the following procedure., Combining TB values at different frequencies and polarizations enables different stages of melting progression to be distinguished [24]., The combination of the horizontally polarized TB at 19 GHz (TB 19H) and the vertically polarized TB at 37 GHz (TB 37V) is the most sensitive index for detecting surface and subsurface melting., As snowmelt water drains from the upper snow cover to deeper layers, the emissivity of TB 19H increases and can even exceed the emissivity of TB 37V.\n",
            "Therefore, the cross-polarization ratio (XPR) can be used as an index to determine whether melting has occurred in the surface or in the subsurface layer., Arndt et al., [25] represented these combinations of TB 19H and TB 37V derived from the passive microwave radiometers SSM/I and SSMIS mounted onboard the Defense Meteorological Satellite Program (DMSP) satellites via the XPR, which is expressed using the following equation:\n",
            "XPR = TB 19H • TB 37V−1., \n",
            "(2)\n",
            ", As the brightness temperature frequencies measured by the AMSR2 sensor were 18 and 36 GHz, the XPR was calculated in this study by replacing TB 19H with TB 18H and TB 37V with TB36V.\n",
            "Markus and Burns, [26] developed a polynya estimation model using the polarization ratio (PR) between 37 and 85 GHz, sensed by SSM/I. Moreover, the frequency of 36 GHz is affected by the open water fraction [27]., In this study, PR36, calculated using the following equation was used for identifying drift ice of different concentrations., \n",
            ", PR36 =, (TB 36V − TB 36H) • (TB 36V + TB 36H))−1\n",
            "(3), \n",
            "In this study, the PR36 and XPR values were calculated using TB 18H, TB 36V, and TB 36H of the AMSR2 L3 product., \n",
            "MODIS Imagery\n",
            "The MODIS instruments onboard the Terra and Aqua spacecraft provide a wealth of spectral and spatial information about the Earth., One of the most aesthetically pleasing MODIS products is the true color images (also known as natural color images) of the Earth at a 250-m spatial resolution., MODIS is the first orbiting imaging sensor to provide such images at a reasonably high spatial resolution over a wide swathe., In the current study, we used MODIS-corrected reflectance true color GeoTIFF imagery to validate the classification results., The MODIS Imagery products were obtained from the NASA’s Earth Observing System Data and Information System (EOSDIS)., Additionally, EODIS publishes coastline data via OpenStreetMap., In the current study, coastline data were used to classify areas of land and sea., \n",
            "Sentinel-1 Level 1 Product\n",
            "Sentinel-1 was launched on the 3rd of April 2014, from Kourou Spaceport in French Guiana., Data became operationally available around October of 2014, following a commissioning phase., The main instrument of Sentinel-1 is a C-band synesthetic aperture radar (C-SAR) instrument, which provides data in the form of SAR images with various modes and resolutions., Hereafter, C-band SAR images are referred to as C-SAR images for simplicity., For operational large-scale ice areas, we used the ground range detected extended wide swath mode at a medium resolution (93 × 87 m) corresponding to an equivalent number of looks of 12.7., Data were provided with 40 × 40 m pixel spacing., Sentinel-1 level 1 products were provided by the ESA’s Copernicus Open Access Hub.\n",
            "]\n"
          ]
        }
      ],
      "source": [
        "sentence_tokens = [sent for sent in doc.sents]\n",
        "print(sentence_tokens)"
      ]
    },
    {
      "cell_type": "markdown",
      "source": [
        "Calculate the most important sentences by adding the word frequencies in each sentence."
      ],
      "metadata": {
        "id": "yegMuAy1Hgk-"
      },
      "id": "yegMuAy1Hgk-"
    },
    {
      "cell_type": "code",
      "execution_count": null,
      "id": "10d86833",
      "metadata": {
        "id": "10d86833",
        "outputId": "04b0c838-3d07-4d55-a0fc-f0153faf9ee2"
      },
      "outputs": [
        {
          "data": {
            "text/plain": [
              "{\n",
              " Advanced Scatterometer (ASCAT)\n",
              " ASCAT was primarily designed to provide global ocean wind vectors operationally.: 3.6279069767441863,\n",
              " ASCAT is an active microwave advanced scatterometer mounted onboard the polar-orbiting satellites MetOp-A and MetOp-B, which are operated by the European Organization for the Exploitation of Meteorological Satellites, and these satellites were launched in 2006 and 2012, respectively.: 6.209302325581396,\n",
              " The ASCAT instrument can transmit pulses with vertical co-polarization (VV) operating in the C-band at 5.255 GHz.: 3.8139534883720936,\n",
              " The ASCAT instrument has two sets of three fan-beam antennae that measure the returned backscatter signal at incident angles of 25–65°.: 2.162790697674419,\n",
              " The antennae extend to either side of the instrument, resulting in a double swath of observations, each 550 km wide, separated by a gap of approximately 360 km [19].: 5.162790697674419,\n",
              " The microwave pulses can penetrate clouds and are not dependent on solar illumination, meaning that ASCAT can provide daily “all-condition” surface measurements and imaging covering approximately 80% of the globe [20].: 3.8139534883720936,\n",
              " ASCAT’s standard backscatter product has a nominal spatial resolution of 25 or 50 km with very high temporal resolution (i.e., multiple passes per day).: 4.348837209302326,\n",
              " However, to investigate the small-scale ice area considered in this study, we used a scatterometer image reconstruction (SIR) algorithm, specifically a 4.45-km resolution all-passes product that is a composite of several passes over the pole during a day [21].: 8.511627906976747,\n",
              " This enhanced resolution product was provided by the Brigham Young University Microwave Earth Remote Sensing Laboratory [22].: 2.0232558139534884,\n",
              " All backscattering data were processed using the SIR algorithm [23], which uses multiple days of scatterometer data to create a grid-like resolution enhancement product.: 3.9534883720930236,\n",
              " This algorithm assumes a linear model that relates the normalized radar cross section (σ0) to the signal incident angle (θ):\n",
              " σ0 =: 3.279069767441861,\n",
              " A + B (θ − 40).: 2.488372093023256,\n",
              " \n",
              " (1)\n",
              " The model normalizes the incident angle to 40°.: 3.7674418604651168,\n",
              " This will create two images, referred to as image A (including normalized backscattering values, in dB) and image B (representing the incident angle dependence of backscattering, in dB/°).: 7.395348837209304,\n",
              " In this study, image A of the v-polarization evening pass was utilized.: 2.9302325581395348,\n",
              " \n",
              " Advanced Microwave Scanning Radiometer 2 (AMSR2)\n",
              " AMSR2 is the passive microwave radiometer instrument mounted onboard the Global Change Observation Mission Water (GCOM-W) satellite, which was launched in May of 2012.: 6.953488372093024,\n",
              " The AMSR2 instrument is a conical scanning passive microwave radiometer system that measures in seven frequency bands (in the range of 6.925–89.0 GHz) in both horizontal and vertical polarizations.: 3.046511627906977,\n",
              " The antenna’s different feedhorns scan at an incidence angle of 55° and provide a 1450 km swath of coverage at the Earth’s surface.: 1.9069767441860468,\n",
              " Here, we used descending passes to find TB values for each frequency and polarization.: 2.3720930232558137,\n",
              " Additionally, SIC values are provided as 10-km gridded data on a polar stereographic projection from the Japan Aerospace Exploration Agency (JAXA) as the AMSR2 Level 3 (L3) products.: 5.744186046511629,\n",
              " \n",
              " As the value of σ0 is sensitive to melting of the snow or ice surface [20], melting represents a source of error.: 3.697674418604651,\n",
              " In the current study, surface melting was detected using the following procedure.: 2.6279069767441863,\n",
              " Combining TB values at different frequencies and polarizations enables different stages of melting progression to be distinguished [24].: 2.116279069767442,\n",
              " The combination of the horizontally polarized TB at 19 GHz (TB 19H) and the vertically polarized TB at 37 GHz (TB 37V) is the most sensitive index for detecting surface and subsurface melting.: 4.209302325581396,\n",
              " As snowmelt water drains from the upper snow cover to deeper layers, the emissivity of TB 19H increases and can even exceed the emissivity of TB 37V.\n",
              " Therefore, the cross-polarization ratio (XPR) can be used as an index to determine whether melting has occurred in the surface or in the subsurface layer.: 6.139534883720931,\n",
              " Arndt et al.: 1.0465116279069768,\n",
              " [25] represented these combinations of TB 19H and TB 37V derived from the passive microwave radiometers SSM/I and SSMIS mounted onboard the Defense Meteorological Satellite Program (DMSP) satellites via the XPR, which is expressed using the following equation:\n",
              " XPR = TB 19H • TB 37V−1.: 5.069767441860466,\n",
              " \n",
              " (2): 2.2790697674418605,\n",
              " As the brightness temperature frequencies measured by the AMSR2 sensor were 18 and 36 GHz, the XPR was calculated in this study by replacing TB 19H with TB 18H and TB 37V with TB36V.\n",
              " Markus and Burns: 1.9302325581395348,\n",
              " [26] developed a polynya estimation model using the polarization ratio (PR) between 37 and 85 GHz, sensed by SSM/I. Moreover, the frequency of 36 GHz is affected by the open water fraction [27].: 5.767441860465118,\n",
              " In this study, PR36, calculated using the following equation was used for identifying drift ice of different concentrations.: 3.511627906976745,\n",
              " : 0.4883720930232558,\n",
              " PR36 =: 0.06976744186046512,\n",
              " (TB 36V − TB 36H) • (TB 36V + TB 36H))−1\n",
              " (3): 3.837209302325582,\n",
              " \n",
              " In this study, the PR36 and XPR values were calculated using TB 18H, TB 36V, and TB 36H of the AMSR2 L3 product.: 4.767441860465116,\n",
              " \n",
              " MODIS Imagery\n",
              " The MODIS instruments onboard the Terra and Aqua spacecraft provide a wealth of spectral and spatial information about the Earth.: 2.4186046511627906,\n",
              " One of the most aesthetically pleasing MODIS products is the true color images (also known as natural color images) of the Earth at a 250-m spatial resolution.: 3.8372093023255816,\n",
              " MODIS is the first orbiting imaging sensor to provide such images at a reasonably high spatial resolution over a wide swathe.: 1.8604651162790697,\n",
              " In the current study, we used MODIS-corrected reflectance true color GeoTIFF imagery to validate the classification results.: 2.953488372093023,\n",
              " The MODIS Imagery products were obtained from the NASA’s Earth Observing System Data and Information System (EOSDIS).: 2.604651162790698,\n",
              " Additionally, EODIS publishes coastline data via OpenStreetMap.: 2.1395348837209305,\n",
              " In the current study, coastline data were used to classify areas of land and sea.: 2.488372093023256,\n",
              " \n",
              " Sentinel-1 Level 1 Product\n",
              " Sentinel-1 was launched on the 3rd of April 2014, from Kourou Spaceport in French Guiana.: 3.255813953488372,\n",
              " Data became operationally available around October of 2014, following a commissioning phase.: 2.325581395348837,\n",
              " The main instrument of Sentinel-1 is a C-band synesthetic aperture radar (C-SAR) instrument, which provides data in the form of SAR images with various modes and resolutions.: 5.116279069767442,\n",
              " Hereafter, C-band SAR images are referred to as C-SAR images for simplicity.: 3.4186046511627906,\n",
              " For operational large-scale ice areas, we used the ground range detected extended wide swath mode at a medium resolution (93 × 87 m) corresponding to an equivalent number of looks of 12.7.: 4.72093023255814,\n",
              " Data were provided with 40 × 40 m pixel spacing.: 1.5813953488372094,\n",
              " Sentinel-1 level 1 products were provided by the ESA’s Copernicus Open Access Hub.: 1.7906976744186047}"
            ]
          },
          "execution_count": 10,
          "metadata": {},
          "output_type": "execute_result"
        }
      ],
      "source": [
        "sentence_scores = {}\n",
        "for sent in sentence_tokens:\n",
        "    for word in sent:\n",
        "        if word.text.lower() in word_frequencies.keys():\n",
        "            if sent not in sentence_scores.keys():\n",
        "                sentence_scores[sent] = word_frequencies[word.text.lower()]\n",
        "            else:\n",
        "                sentence_scores[sent] += word_frequencies[word.text.lower()]\n",
        "sentence_scores"
      ]
    },
    {
      "cell_type": "markdown",
      "source": [
        "From headhq import nlargest and calculate  40% of text with maximum score."
      ],
      "metadata": {
        "id": "aun9D12oHnpW"
      },
      "id": "aun9D12oHnpW"
    },
    {
      "cell_type": "code",
      "execution_count": null,
      "id": "816ba74f",
      "metadata": {
        "id": "816ba74f",
        "outputId": "ea74b8e1-d3ee-40ec-a279-3d929c09ed7d"
      },
      "outputs": [
        {
          "data": {
            "text/plain": [
              "19"
            ]
          },
          "execution_count": 11,
          "metadata": {},
          "output_type": "execute_result"
        }
      ],
      "source": [
        "from heapq import nlargest\n",
        "select_length = int(len(sentence_tokens)*(40/100))\n",
        "select_length"
      ]
    },
    {
      "cell_type": "markdown",
      "source": [
        "Get the summary of text."
      ],
      "metadata": {
        "id": "FKfd8Uj5IKmU"
      },
      "id": "FKfd8Uj5IKmU"
    },
    {
      "cell_type": "code",
      "execution_count": null,
      "id": "ccf97305",
      "metadata": {
        "id": "ccf97305",
        "outputId": "5c715613-e640-4ce3-e4a0-05ddfc79de37"
      },
      "outputs": [
        {
          "name": "stdout",
          "output_type": "stream",
          "text": [
            "\n",
            "Advanced Scatterometer (ASCAT)\n",
            "ASCAT was primarily designed to provide global ocean wind vectors operationally. ASCAT is an active microwave advanced scatterometer mounted onboard the polar-orbiting satellites MetOp-A and MetOp-B, which are operated by the European Organization for the Exploitation of Meteorological Satellites, and these satellites were launched in 2006 and 2012, respectively. The ASCAT instrument can transmit pulses with vertical co-polarization (VV) operating in the C-band at 5.255 GHz. The ASCAT instrument has two sets of three fan-beam antennae that measure the returned backscatter signal at incident angles of 25–65°. The antennae extend to either side of the instrument, resulting in a double swath of observations, each 550 km wide, separated by a gap of approximately 360 km [19]. The microwave pulses can penetrate clouds and are not dependent on solar illumination, meaning that ASCAT can provide daily “all-condition” surface measurements and imaging covering approximately 80% of the globe [20]. ASCAT’s standard backscatter product has a nominal spatial resolution of 25 or 50 km with very high temporal resolution (i.e., multiple passes per day). However, to investigate the small-scale ice area considered in this study, we used a scatterometer image reconstruction (SIR) algorithm, specifically a 4.45-km resolution all-passes product that is a composite of several passes over the pole during a day [21]. This enhanced resolution product was provided by the Brigham Young University Microwave Earth Remote Sensing Laboratory [22]. All backscattering data were processed using the SIR algorithm [23], which uses multiple days of scatterometer data to create a grid-like resolution enhancement product. This algorithm assumes a linear model that relates the normalized radar cross section (σ0) to the signal incident angle (θ):\n",
            "σ0 = A + B (θ − 40).\n",
            "(1)\n",
            "The model normalizes the incident angle to 40°. This will create two images, referred to as image A (including normalized backscattering values, in dB) and image B (representing the incident angle dependence of backscattering, in dB/°). In this study, image A of the v-polarization evening pass was utilized.\n",
            "Advanced Microwave Scanning Radiometer 2 (AMSR2)\n",
            "AMSR2 is the passive microwave radiometer instrument mounted onboard the Global Change Observation Mission Water (GCOM-W) satellite, which was launched in May of 2012. The AMSR2 instrument is a conical scanning passive microwave radiometer system that measures in seven frequency bands (in the range of 6.925–89.0 GHz) in both horizontal and vertical polarizations. The antenna’s different feedhorns scan at an incidence angle of 55° and provide a 1450 km swath of coverage at the Earth’s surface. Here, we used descending passes to find TB values for each frequency and polarization. Additionally, SIC values are provided as 10-km gridded data on a polar stereographic projection from the Japan Aerospace Exploration Agency (JAXA) as the AMSR2 Level 3 (L3) products.\n",
            "As the value of σ0 is sensitive to melting of the snow or ice surface [20], melting represents a source of error. In the current study, surface melting was detected using the following procedure. Combining TB values at different frequencies and polarizations enables different stages of melting progression to be distinguished [24]. The combination of the horizontally polarized TB at 19 GHz (TB 19H) and the vertically polarized TB at 37 GHz (TB 37V) is the most sensitive index for detecting surface and subsurface melting. As snowmelt water drains from the upper snow cover to deeper layers, the emissivity of TB 19H increases and can even exceed the emissivity of TB 37V.\n",
            "Therefore, the cross-polarization ratio (XPR) can be used as an index to determine whether melting has occurred in the surface or in the subsurface layer. Arndt et al. [25] represented these combinations of TB 19H and TB 37V derived from the passive microwave radiometers SSM/I and SSMIS mounted onboard the Defense Meteorological Satellite Program (DMSP) satellites via the XPR, which is expressed using the following equation:\n",
            "XPR = TB 19H • TB 37V−1.\n",
            "(2)\n",
            "As the brightness temperature frequencies measured by the AMSR2 sensor were 18 and 36 GHz, the XPR was calculated in this study by replacing TB 19H with TB 18H and TB 37V with TB36V.\n",
            "Markus and Burns [26] developed a polynya estimation model using the polarization ratio (PR) between 37 and 85 GHz, sensed by SSM/I. Moreover, the frequency of 36 GHz is affected by the open water fraction [27]. In this study, PR36, calculated using the following equation was used for identifying drift ice of different concentrations.\n",
            "PR36 = (TB 36V − TB 36H) • (TB 36V + TB 36H))−1\n",
            "(3)\n",
            "In this study, the PR36 and XPR values were calculated using TB 18H, TB 36V, and TB 36H of the AMSR2 L3 product.\n",
            "MODIS Imagery\n",
            "The MODIS instruments onboard the Terra and Aqua spacecraft provide a wealth of spectral and spatial information about the Earth. One of the most aesthetically pleasing MODIS products is the true color images (also known as natural color images) of the Earth at a 250-m spatial resolution. MODIS is the first orbiting imaging sensor to provide such images at a reasonably high spatial resolution over a wide swathe. In the current study, we used MODIS-corrected reflectance true color GeoTIFF imagery to validate the classification results. The MODIS Imagery products were obtained from the NASA’s Earth Observing System Data and Information System (EOSDIS). Additionally, EODIS publishes coastline data via OpenStreetMap. In the current study, coastline data were used to classify areas of land and sea.\n",
            "Sentinel-1 Level 1 Product\n",
            "Sentinel-1 was launched on the 3rd of April 2014, from Kourou Spaceport in French Guiana. Data became operationally available around October of 2014, following a commissioning phase. The main instrument of Sentinel-1 is a C-band synesthetic aperture radar (C-SAR) instrument, which provides data in the form of SAR images with various modes and resolutions. Hereafter, C-band SAR images are referred to as C-SAR images for simplicity. For operational large-scale ice areas, we used the ground range detected extended wide swath mode at a medium resolution (93 × 87 m) corresponding to an equivalent number of looks of 12.7. Data were provided with 40 × 40 m pixel spacing. Sentinel-1 level 1 products were provided by the ESA’s Copernicus Open Access Hub.\n",
            "\n"
          ]
        }
      ],
      "source": [
        "summary = nlargest(select_length, sentence_scores,key = sentence_scores.get)\n",
        "final_summary = [word.text for word in summary]\n",
        "summary = ' '.join(final_summary)\n",
        "print(text)"
      ]
    },
    {
      "cell_type": "code",
      "execution_count": null,
      "id": "72b370cd",
      "metadata": {
        "id": "72b370cd",
        "outputId": "47f3bcda-3385-420e-a607-3bb9c06f8641"
      },
      "outputs": [
        {
          "name": "stdout",
          "output_type": "stream",
          "text": [
            "However, to investigate the small-scale ice area considered in this study, we used a scatterometer image reconstruction (SIR) algorithm, specifically a 4.45-km resolution all-passes product that is a composite of several passes over the pole during a day [21]. This will create two images, referred to as image A (including normalized backscattering values, in dB) and image B (representing the incident angle dependence of backscattering, in dB/°). \n",
            "Advanced Microwave Scanning Radiometer 2 (AMSR2)\n",
            "AMSR2 is the passive microwave radiometer instrument mounted onboard the Global Change Observation Mission Water (GCOM-W) satellite, which was launched in May of 2012. ASCAT is an active microwave advanced scatterometer mounted onboard the polar-orbiting satellites MetOp-A and MetOp-B, which are operated by the European Organization for the Exploitation of Meteorological Satellites, and these satellites were launched in 2006 and 2012, respectively. As snowmelt water drains from the upper snow cover to deeper layers, the emissivity of TB 19H increases and can even exceed the emissivity of TB 37V.\n",
            "Therefore, the cross-polarization ratio (XPR) can be used as an index to determine whether melting has occurred in the surface or in the subsurface layer. [26] developed a polynya estimation model using the polarization ratio (PR) between 37 and 85 GHz, sensed by SSM/I. Moreover, the frequency of 36 GHz is affected by the open water fraction [27]. Additionally, SIC values are provided as 10-km gridded data on a polar stereographic projection from the Japan Aerospace Exploration Agency (JAXA) as the AMSR2 Level 3 (L3) products. The antennae extend to either side of the instrument, resulting in a double swath of observations, each 550 km wide, separated by a gap of approximately 360 km [19]. The main instrument of Sentinel-1 is a C-band synesthetic aperture radar (C-SAR) instrument, which provides data in the form of SAR images with various modes and resolutions. [25] represented these combinations of TB 19H and TB 37V derived from the passive microwave radiometers SSM/I and SSMIS mounted onboard the Defense Meteorological Satellite Program (DMSP) satellites via the XPR, which is expressed using the following equation:\n",
            "XPR = TB 19H • TB 37V−1. \n",
            "In this study, the PR36 and XPR values were calculated using TB 18H, TB 36V, and TB 36H of the AMSR2 L3 product. For operational large-scale ice areas, we used the ground range detected extended wide swath mode at a medium resolution (93 × 87 m) corresponding to an equivalent number of looks of 12.7. ASCAT’s standard backscatter product has a nominal spatial resolution of 25 or 50 km with very high temporal resolution (i.e., multiple passes per day). The combination of the horizontally polarized TB at 19 GHz (TB 19H) and the vertically polarized TB at 37 GHz (TB 37V) is the most sensitive index for detecting surface and subsurface melting. All backscattering data were processed using the SIR algorithm [23], which uses multiple days of scatterometer data to create a grid-like resolution enhancement product. (TB 36V − TB 36H) • (TB 36V + TB 36H))−1\n",
            "(3) One of the most aesthetically pleasing MODIS products is the true color images (also known as natural color images) of the Earth at a 250-m spatial resolution. The ASCAT instrument can transmit pulses with vertical co-polarization (VV) operating in the C-band at 5.255 GHz. The microwave pulses can penetrate clouds and are not dependent on solar illumination, meaning that ASCAT can provide daily “all-condition” surface measurements and imaging covering approximately 80% of the globe [20].\n"
          ]
        }
      ],
      "source": [
        "print(summary)"
      ]
    },
    {
      "cell_type": "code",
      "execution_count": null,
      "id": "3623b308",
      "metadata": {
        "id": "3623b308",
        "outputId": "176a6067-cbd0-42b4-ce83-f061268c9724"
      },
      "outputs": [
        {
          "data": {
            "text/plain": [
              "6440"
            ]
          },
          "execution_count": 14,
          "metadata": {},
          "output_type": "execute_result"
        }
      ],
      "source": [
        "len(text)"
      ]
    },
    {
      "cell_type": "code",
      "execution_count": null,
      "id": "9bc2b3fb",
      "metadata": {
        "id": "9bc2b3fb",
        "outputId": "19a63fea-a560-4fb1-f4ee-93220a6e3b04"
      },
      "outputs": [
        {
          "data": {
            "text/plain": [
              "3619"
            ]
          },
          "execution_count": 15,
          "metadata": {},
          "output_type": "execute_result"
        }
      ],
      "source": [
        "len(summary)"
      ]
    },
    {
      "cell_type": "markdown",
      "source": [
        "# Discussion"
      ],
      "metadata": {
        "id": "lXe_I1G_ITer"
      },
      "id": "lXe_I1G_ITer"
    },
    {
      "cell_type": "code",
      "execution_count": null,
      "id": "3fe688db",
      "metadata": {
        "id": "3fe688db"
      },
      "outputs": [],
      "source": [
        "import tkinter as tk\n",
        "\n",
        "    \n",
        "\n",
        "root = tk.Tk()\n",
        "root.title(\"News Summmarization\")\n",
        "root.geometry('1200x600')\n",
        "\n",
        "\n",
        "slabel = tk.Label(root, text=\"Summary\")\n",
        "slabel.pack()\n",
        "\n",
        "summary = tk.Text(root, height=20, width=140)\n",
        "summary.pack()\n",
        "\n",
        "\n",
        "ulabel = tk.Label(root, text=\"URL\")\n",
        "ulabel.pack()\n",
        "\n",
        "utext = tk.Text(root, height=1, width=140)\n",
        "utext.pack()\n",
        "\n",
        "btn = tk.Button(root, text='Summarize')\n",
        "btn.pack()\n",
        "\n",
        "root.mainloop()"
      ]
    },
    {
      "cell_type": "code",
      "execution_count": null,
      "id": "c486ac84",
      "metadata": {
        "id": "c486ac84",
        "outputId": "74d3293f-6022-450f-cf41-0647afbeaf4f"
      },
      "outputs": [
        {
          "data": {
            "image/png": "[encoded data removed]",
            "text/plain": [
              "<Figure size 432x288 with 1 Axes>"
            ]
          },
          "metadata": {
            "needs_background": "light"
          },
          "output_type": "display_data"
        }
      ],
      "source": [
        "import matplotlib.pyplot as plt\n",
        "\n",
        "x = [10,20,40]\n",
        "# corresponding y axis values\n",
        "y = [76.3,42.1,72.5]\n",
        " \n",
        "# plotting the points\n",
        "plt.plot(x, y)\n",
        " \n",
        "# naming the x axis\n",
        "plt.xlabel('Text percentage of maximum score')\n",
        "# naming the y axis\n",
        "plt.ylabel('Average inaccuracies')\n",
        " \n",
        "# giving a title to my graph\n",
        "plt.title('Inaccuracy of model based on text percentage')\n",
        " \n",
        "# function to show the plot\n",
        "plt.show()"
      ]
    },
    {
      "cell_type": "code",
      "execution_count": null,
      "id": "3ce2e3fd",
      "metadata": {
        "id": "3ce2e3fd"
      },
      "outputs": [],
      "source": [
        ""
      ]
    }
  ],
  "metadata": {
    "kernelspec": {
      "display_name": "Python 3 (ipykernel)",
      "language": "python",
      "name": "python3"
    },
    "language_info": {
      "codemirror_mode": {
        "name": "ipython",
        "version": 3
      },
      "file_extension": ".py",
      "mimetype": "text/x-python",
      "name": "python",
      "nbconvert_exporter": "python",
      "pygments_lexer": "ipython3",
      "version": "3.10.0"
    },
    "colab": {
      "name": "NLP PROJECT TEST (2).ipynb",
      "provenance": []
    }
  },
  "nbformat": 4,
  "nbformat_minor": 5
}